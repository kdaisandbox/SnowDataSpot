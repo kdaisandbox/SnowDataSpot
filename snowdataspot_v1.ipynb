{
  "nbformat": 4,
  "nbformat_minor": 0,
  "metadata": {
    "colab": {
      "name": "snowdataspot v1.ipynb",
      "provenance": []
    },
    "kernelspec": {
      "name": "python3",
      "display_name": "Python 3"
    },
    "language_info": {
      "name": "python"
    }
  },
  "cells": [
    {
      "cell_type": "markdown",
      "source": [
        "# **KoçDigital Sandbox Services**\n",
        "## Data and AI Experiences Made Easy!"
      ],
      "metadata": {
        "id": "CZ-lT00T6Y3M"
      }
    },
    {
      "cell_type": "markdown",
      "source": [
        "## **Electricity Consumption Forecasting using Snowflake, DataRobot and ThoughtSpot**\n",
        "\n",
        "![](https://drive.google.com/uc?export=view&id=1HTZwvuWpq1tQUCggPhtCOyXegw-DJ5dn)"
      ],
      "metadata": {
        "id": "o0ozoNhV6h5E"
      }
    },
    {
      "cell_type": "markdown",
      "source": [
        "**Use case briefing**\n",
        "\n",
        "The goal of this use case is to predict electricity consupmtion over the next hour. The dataset is sourced from [Kaggle](https://www.kaggle.com/datasets/robikscube/hourly-energy-consumption) and contains a timeseries data spanning 2004 to 2018. "
      ],
      "metadata": {
        "id": "vmZlVLyy7kD5"
      }
    },
    {
      "cell_type": "markdown",
      "source": [
        "Architecture\n",
        "\n",
        "![](https://drive.google.com/uc?export=view&id=1D4v2CQ8SNXisIOYTL8AgCVG6i8TjG-dS)\n",
        "\n",
        "\n"
      ],
      "metadata": {
        "id": "osZEgMaN7s9s"
      }
    },
    {
      "cell_type": "markdown",
      "source": [
        "# **Snowflake Section**\n",
        "\n",
        "![](https://drive.google.com/uc?export=view&id=1v46Gft05JU9szElx-lA_3-o9r5SBkyij)"
      ],
      "metadata": {
        "id": "7Pp6IUEe_uqv"
      }
    },
    {
      "cell_type": "markdown",
      "source": [
        "**Step-1: Sign in to Snowflake**\n",
        "\n",
        "Go to the link and sign in to Snowflake using the credentials provided below: https://app.snowflake.com/west-europe.azure/qm92420/\n",
        "\n",
        "**Username:** sandbox-user3478\n",
        "\n",
        "**Password:** Admin123"
      ],
      "metadata": {
        "id": "ky4_e167_3rx"
      }
    },
    {
      "cell_type": "markdown",
      "source": [
        "**Step-2: Create a new worksheet**\n",
        "\n",
        "![](https://drive.google.com/uc?export=view&id=1w_qxkc4jozPzTTugWKAbWs43tHwWfNtU)"
      ],
      "metadata": {
        "id": "3JebUZKbAX1z"
      }
    },
    {
      "cell_type": "markdown",
      "source": [
        "**Step-3: Upload data using queries**\n",
        "\n",
        "![](https://drive.google.com/uc?export=view&id=1-UbQd0yOrwpPtQ858P1ct-qHw-K803HR)\n",
        "\n",
        "See the query code below. Run the query.\n"
      ],
      "metadata": {
        "id": "BqAPoh9G5zib"
      }
    },
    {
      "cell_type": "code",
      "source": [
        "CREATE OR REPLACE STAGE STG_AZURESTORAGE\n",
        "URL='azure://stkdsandbox.blob.core.windows.net/sandbox-snowdata';"
      ],
      "metadata": {
        "id": "1Q6jAGo0Hfsy"
      },
      "execution_count": null,
      "outputs": []
    },
    {
      "cell_type": "markdown",
      "source": [
        "You should see the status: \n",
        "\n",
        "'Stage area STG_AZURESTORAGE successfully created.'"
      ],
      "metadata": {
        "id": "sfAxVlfQAV7K"
      }
    },
    {
      "cell_type": "markdown",
      "source": [
        "Now, run the following query.\n",
        "\n"
      ],
      "metadata": {
        "id": "WXHQKKbs9bAX"
      }
    },
    {
      "cell_type": "code",
      "source": [
        "LIST @STG_AZURESTORAGE;"
      ],
      "metadata": {
        "id": "Kl5O5sX69hTv"
      },
      "execution_count": null,
      "outputs": []
    },
    {
      "cell_type": "markdown",
      "source": [
        "Validate the outcome.\n",
        "\n",
        "![](https://drive.google.com/uc?export=view&id=11Kb0hULEpiQz1WJvVqNwmt7urKXEVAEO)"
      ],
      "metadata": {
        "id": "qrtEdYTT-rf_"
      }
    },
    {
      "cell_type": "markdown",
      "source": [
        "Query the files using the below code."
      ],
      "metadata": {
        "id": "i0hjFwiY_Rj3"
      }
    },
    {
      "cell_type": "code",
      "source": [
        "SELECT s.$1, s.$2 FROM @STG_AZURESTORAGE s;"
      ],
      "metadata": {
        "id": "m_3EJD5D_h9X"
      },
      "execution_count": null,
      "outputs": []
    },
    {
      "cell_type": "markdown",
      "source": [
        "See the outcome.\n",
        "\n",
        "![](https://drive.google.com/uc?export=view&id=14GPhd8x3AFMzfdBorhsCyPmyjJawgtxs)\n",
        "\n"
      ],
      "metadata": {
        "id": "T0gXaT8Z_kgV"
      }
    },
    {
      "cell_type": "markdown",
      "source": [
        "Run below query to create the file format. "
      ],
      "metadata": {
        "id": "pDciiWmM_2Tv"
      }
    },
    {
      "cell_type": "code",
      "source": [
        "CREATE FILE FORMAT \"SANDBOX\".\"PUBLIC\".FF_AEP_CSV\n",
        "SET COMPRESSION = 'AUTO' \n",
        "FIELD_DELIMITER = ',' \n",
        "RECORD_DELIMITER = '\\n' \n",
        "SKIP_HEADER = 1 \n",
        "FIELD_OPTIONALLY_ENCLOSED_BY = 'NONE' \n",
        "TRIM_SPACE = FALSE \n",
        "ERROR_ON_COLUMN_COUNT_MISMATCH = TRUE \n",
        "ESCAPE = 'NONE' \n",
        "ESCAPE_UNENCLOSED_FIELD = '\\134' \n",
        "DATE_FORMAT = 'AUTO' \n",
        "TIMESTAMP_FORMAT = 'AUTO' \n",
        "NULL_IF = ('\\\\N');"
      ],
      "metadata": {
        "id": "x9ySA8CAADb-"
      },
      "execution_count": null,
      "outputs": []
    },
    {
      "cell_type": "markdown",
      "source": [
        "Move the data.\n",
        "\n"
      ],
      "metadata": {
        "id": "_Zw9vLdUAF-1"
      }
    },
    {
      "cell_type": "code",
      "source": [
        "COPY INTO AEP_HOURLY_PROCESSED\n",
        "FROM @stg_azurestorage\n",
        "FILE_FORMAT = FF_AEP_CSV\n",
        "ON_ERROR = 'ABORT_STATEMENT'"
      ],
      "metadata": {
        "id": "U4xHW2uNC_bw"
      },
      "execution_count": null,
      "outputs": []
    },
    {
      "cell_type": "markdown",
      "source": [
        "![](https://drive.google.com/uc?export=view&id=1xUDmP9hvmBIXbNGddKIIZqiKDoEnHn9M)"
      ],
      "metadata": {
        "id": "UlOEg9qPDDUv"
      }
    },
    {
      "cell_type": "markdown",
      "source": [
        "Check the table."
      ],
      "metadata": {
        "id": "FC-LX8zvCweC"
      }
    },
    {
      "cell_type": "code",
      "source": [
        "SELECT top 10 * FROM AEP_HOURLY_PROCESSED"
      ],
      "metadata": {
        "id": "i7WNChRiDFJT"
      },
      "execution_count": null,
      "outputs": []
    },
    {
      "cell_type": "markdown",
      "source": [
        "![](https://drive.google.com/uc?export=view&id=1trcYzqnpXntFK06SfXcsuKj3Aq5Gbaue)"
      ],
      "metadata": {
        "id": "8u-ebALIDG62"
      }
    },
    {
      "cell_type": "markdown",
      "source": [
        "## **DataRobot Section**\n",
        "\n",
        "![](https://drive.google.com/uc?export=view&id=1Jc6z7wNCSnvvxYIJqrpa511Mbisvu91K)"
      ],
      "metadata": {
        "id": "1sim5LW17vwF"
      }
    },
    {
      "cell_type": "markdown",
      "source": [
        "**Step-1: Sign in to DataRobot**\n",
        "\n",
        "Go to the link and sign in to DataRobot using the credentials provided below: https://app2.datarobot.com/ai-platform\n",
        "\n",
        "Username: sandbox-user3478@kocdigital.com\n",
        "\n",
        "Password: Admin123"
      ],
      "metadata": {
        "id": "7OBKJyzp8jsk"
      }
    },
    {
      "cell_type": "markdown",
      "source": [
        "**Step-2: ML Development**\n",
        "\n",
        "Launch ML Development\n",
        "\n",
        "![](https://drive.google.com/uc?export=view&id=1lLD6GWLCVPHfmmL2MwTrVDdkFkLFQJKi)\n",
        "\n"
      ],
      "metadata": {
        "id": "-gM3KhxI9rXG"
      }
    },
    {
      "cell_type": "markdown",
      "source": [
        "Create new project and a new data connection, select Snowflake.\n",
        "\n",
        "![](https://drive.google.com/uc?export=view&id=1tOqMuSPvvU3leQKT163g9bKF3QIsnLId)\n",
        "\n",
        "Connect to Snowflake using below credentials:\n",
        "\n",
        "Connection name (Optional): Choose your own \n",
        "\n",
        "Driver: Snowflake (3.13.9)\n",
        "\n",
        "Address: app.snowflake.com/west-europe.azure/qm92420\n",
        "\n",
        "Database: SANDBOX\n",
        "\n",
        "Warehouse: COMPUTE_WH\n",
        "\n",
        "![](https://drive.google.com/uc?export=view&id=1LtTbsqzMCwG7hFEP8KWZWv0uNnynohQs)\n",
        "\n",
        "\n",
        "\n"
      ],
      "metadata": {
        "id": "66Iv2YYcamkS"
      }
    },
    {
      "cell_type": "markdown",
      "source": [
        "Once the data connection is up and ready, go to Data section and start modelling.\n",
        "\n",
        "![](https://drive.google.com/uc?export=view&id=11cK2UY6A6jIuoFFtXLlvJCF12lAEL04a)\n",
        "\n",
        "At the Data section see the initial data analysis outcome.\n",
        "\n",
        "![](https://drive.google.com/uc?export=view&id=1G8kU4MWTzdscPrxRPICQWmwqh61AC9cQ)\n",
        "\n",
        "At the Models section see the models developed.\n",
        "\n",
        "![](https://drive.google.com/uc?export=view&id=1fzCShCIxUBYFGtRhkoGTik5ya7LML4VB)\n",
        "\n",
        "\n"
      ],
      "metadata": {
        "id": "kJmbHx-sdwZ4"
      }
    },
    {
      "cell_type": "markdown",
      "source": [
        "**Step-3: Deployment**\n",
        "\n",
        "Go to MLOps section for the model deployment. Choose your Snowflake connection for the prediction source and destination.\n",
        "\n",
        "For the destination, choose 'Create table if it does not exist'.\n",
        "\n",
        "![](https://drive.google.com/uc?export=view&id=1aPkyprhLJSbNHNJm4bWCjsK_7iVV50sX)\n",
        "\n",
        "Choose 'Run this job immediately' to start deployment.\n",
        "\n",
        "![](https://drive.google.com/uc?export=view&id=1MfhFm-Sxi3ix_wGRKN0HdgnS1FUYOZxK)\n",
        "\n",
        "See the model at Prediction Jobs subsection.\n",
        "\n",
        "![](https://drive.google.com/uc?export=view&id=1rHKITLk5cbAEcO1-lAOxsR8RHGTAOAID)\n",
        "\n",
        "\n",
        "\n",
        "\n",
        "\n",
        "\n",
        "\n",
        "\n"
      ],
      "metadata": {
        "id": "rvQtEe7Mf-Up"
      }
    },
    {
      "cell_type": "markdown",
      "source": [
        "Check whether the deployment is succeeded.\n",
        "\n",
        "![](https://drive.google.com/uc?export=view&id=1d3WzTgemWmiRjSpGcBvSzDzmPekiQqEv)\n",
        "\n",
        "Once the deployment is completed go to Snowflake and query the predictions using the below code.\n",
        "\n",
        "\n",
        "\n",
        "\n",
        "\n"
      ],
      "metadata": {
        "id": "2VcboUa4hwz0"
      }
    },
    {
      "cell_type": "code",
      "source": [
        "SELECT TOP 100 * FROM OUT_MODEL"
      ],
      "metadata": {
        "id": "RbRFZMG6jKPZ"
      },
      "execution_count": null,
      "outputs": []
    },
    {
      "cell_type": "markdown",
      "source": [
        "![](https://drive.google.com/uc?export=view&id=1ujQhDuRxRl6ZlLocsS_hkCpNAxMQyYru)\n",
        "\n",
        "See the top 100 records of the output table."
      ],
      "metadata": {
        "id": "-UrHIr9ajMBZ"
      }
    },
    {
      "cell_type": "markdown",
      "source": [
        "# **ThoughtSpot Section**\n",
        "\n",
        "![](https://drive.google.com/uc?export=view&id=1FgKBUyX7VMlgBjgGMJb80PLYyh1plD1C)\n",
        "\n",
        "\n",
        "\n",
        "\n"
      ],
      "metadata": {
        "id": "8fODezo-jbtg"
      }
    },
    {
      "cell_type": "markdown",
      "source": [
        "**Step-1: Sign in to ThoughtSpot**\n",
        "\n",
        "Go to ThougtSpot using the link: https://try.thoughtspot.cloud/\n",
        "\n",
        "Username: sandbox-user3478@kocdigital.com\n",
        "\n",
        "Password: @Karo7353\n"
      ],
      "metadata": {
        "id": "01HgppLjj7fD"
      }
    },
    {
      "cell_type": "markdown",
      "source": [
        "**Step-2: Connect to Snowflake**\n",
        "\n",
        "Go to Data section and then to Connections subsection. Now, click Add Connection.\n",
        "\n",
        "![](https://drive.google.com/uc?export=view&id=1GkFIilcjn41P2gMmT7fCRqdt51O3TN8e)\n",
        "\n",
        "Choose Snowflake.\n",
        "\n",
        "![](https://drive.google.com/uc?export=view&id=1YdakxVf_9gRBbzhKv_TqLqeWEiAO3lH7)\n",
        "\n",
        "Use the following credentials:\n",
        "\n",
        "Connection name (Optional): Choose your connection name\n",
        "\n",
        "Username: sandbox-user3478\n",
        "\n",
        "Password: Admin123\n",
        "\n",
        "Address: qm92420.west-europe.azure\n",
        "\n",
        "Database: SANDBOX\n",
        "\n",
        "Warehouse: COMPUTE_WH\n",
        "\n",
        "Role: Account Admin\n",
        "\n",
        "![](https://drive.google.com/uc?export=view&id=16pmVs-mYrRLHBIcdYgHluvnDV_S2xYul)\n",
        "\n",
        "Choose the OUT_MODEL table. \n",
        "\n",
        "![](https://drive.google.com/uc?export=view&id=1NWm1xGvGusvn6_lw3v9aHfZGVhpw5Iml)\n",
        "\n",
        "\n",
        "\n",
        "\n",
        "\n",
        "\n",
        "\n",
        "\n",
        "\n",
        "\n",
        "\n",
        "\n"
      ],
      "metadata": {
        "id": "FqYbVOXem8vo"
      }
    },
    {
      "cell_type": "markdown",
      "source": [
        "**Step-3: Create chart**\n",
        "\n",
        "On the main page go to Search Data.\n",
        "\n",
        "![](https://drive.google.com/uc?export=view&id=1UJgYPe14eiTURE4EPTA-7iyO_Q7t9UXd)\n",
        "\n",
        "Create a chart through choosing the desired columns listed on the left-hand side menu.\n",
        "\n",
        "![](https://drive.google.com/uc?export=view&id=1DfZ65Zud_X6vB8lr5Y0QW3LcPWF516x8)"
      ],
      "metadata": {
        "id": "P3RBdrEHiFe3"
      }
    }
  ]
}